{
  "nbformat": 4,
  "nbformat_minor": 0,
  "metadata": {
    "kernelspec": {
      "display_name": "Python 3",
      "language": "python",
      "name": "python3"
    },
    "language_info": {
      "codemirror_mode": {
        "name": "ipython",
        "version": 3
      },
      "file_extension": ".py",
      "mimetype": "text/x-python",
      "name": "python",
      "nbconvert_exporter": "python",
      "pygments_lexer": "ipython3",
      "version": "3.6.6"
    },
    "colab": {
      "name": "Copy of Hotel Booking Analysis - Capstone Project.ipynb",
      "provenance": [],
      "include_colab_link": true
    }
  },
  "cells": [
    {
      "cell_type": "markdown",
      "metadata": {
        "id": "view-in-github",
        "colab_type": "text"
      },
      "source": [
        "<a href=\"https://colab.research.google.com/github/Mounikachig/hotel-booking/blob/main/Copy_of_Hotel_Booking_Analysis_Capstone_Project.ipynb\" target=\"_parent\"><img src=\"https://colab.research.google.com/assets/colab-badge.svg\" alt=\"Open In Colab\"/></a>"
      ]
    },
    {
      "cell_type": "markdown",
      "metadata": {
        "id": "Y06xIdG26kRF"
      },
      "source": [
        "## <b> Have you ever wondered when the best time of year to book a hotel room is? Or the optimal length of stay in order to get the best daily rate? What if you wanted to predict whether or not a hotel was likely to receive a disproportionately high number of special requests? This hotel booking dataset can help you explore those questions!\n",
        "\n",
        "## <b>This data set contains booking information for a city hotel and a resort hotel, and includes information such as when the booking was made, length of stay, the number of adults, children, and/or babies, and the number of available parking spaces, among other things. All personally identifying information has been removed from the data. </b>\n",
        "\n",
        "## <b> Explore and analyze the data to discover important factors that govern the bookings. </b>"
      ]
    },
    {
      "cell_type": "code",
      "metadata": {
        "id": "dByMsuzT8Tnw"
      },
      "source": [
        "import numpy as np\n",
        "import pandas as pd "
      ],
      "execution_count": 1,
      "outputs": []
    },
    {
      "cell_type": "code",
      "source": [
        "from google.colab import drive\n",
        "drive.mount('/content/drive')"
      ],
      "metadata": {
        "colab": {
          "base_uri": "https://localhost:8080/"
        },
        "id": "ainKoztDxl3V",
        "outputId": "67395e6c-6519-4fce-9309-bdabc99eecef"
      },
      "execution_count": 2,
      "outputs": [
        {
          "output_type": "stream",
          "name": "stdout",
          "text": [
            "Mounted at /content/drive\n"
          ]
        }
      ]
    },
    {
      "cell_type": "code",
      "source": [
        "df = pd.read_csv(\"/content/drive/MyDrive/Hotel Bookings (data analysis capstone project)/Copy of Hotel Booking Analysis - Capstone Project.ipynb\")"
      ],
      "metadata": {
        "id": "S_Zr3nuVxwUw"
      },
      "execution_count": 3,
      "outputs": []
    },
    {
      "cell_type": "code",
      "source": [
        "df.info()"
      ],
      "metadata": {
        "colab": {
          "base_uri": "https://localhost:8080/"
        },
        "id": "vZJHCXKN0HBO",
        "outputId": "6dc9e696-0d24-4092-bcac-ec436e5e8c43"
      },
      "execution_count": 5,
      "outputs": [
        {
          "output_type": "execute_result",
          "data": {
            "text/plain": [
              "<bound method DataFrame.info of Empty DataFrame\n",
              "Columns: [{\"nbformat\":4, nbformat_minor:0, metadata:{\"kernelspec\":{\"display_name\":\"Python 3\", language:\"python\", name:\"python3\"}, language_info:{\"codemirror_mode\":{\"name\":\"ipython\", version:3}, file_extension:\".py\", mimetype:\"text/x-python\", name:\"python\", nbconvert_exporter:\"python\", pygments_lexer:\"ipython3\", version:\"3.6.6\"}, colab:{\"name\":\"Copy of Hotel Booking Analysis - Capstone Project.ipynb\", provenance:[{\"file_id\":\"1dwbZDaImw_cFIpd2dhyFyeHnj8_mz3c_\", timestamp:1649330113302}, {\"file_id\":\"1KNx2-lMsfxLj8Qi5Ez9LOXpMHRWtSHNK\", timestamp:1604585315628}]}}, cells:[{\"cell_type\":\"markdown\", metadata:{\"id\":\"Y06xIdG26kRF\"}, source:[\"## <b> Have you ever wondered when the best time of year to book a hotel room is? Or the optimal length of stay in order to get the best daily rate? What if you wanted to predict whether or not a hotel was likely to receive a disproportionately high number of special requests? This hotel booking dataset can help you explore those questions!\\n\", \\n, ## <b>This data set contains booking information for a city hotel and a resort hotel, and includes information such as when the booking was made, length of stay, the number of adults, children, and/or babies, and the number of available parking spaces, among other things. All personally identifying information has been removed from the data. </b>\\n, \\n.1, ## <b> Explore and analyze the data to discover important factors that govern the bookings. </b>]}, {\"cell_type\":\"code\", metadata:{\"id\":\"dByMsuzT8Tnw\", executionInfo:{\"status\":\"ok\", timestamp:1649330761813, user_tz:-330, elapsed:442, user:{\"displayName\":\"Mounika\", userId:\"17644319402087990687\"}}}, source:[\"import numpy as np\\n\", import pandas as pd ], execution_count:1, outputs:[]}, {\"cell_type\":\"code\".1, source:[\"from google.colab import drive\\n\", drive.mount('/content/drive')], metadata:{\"colab\":{\"base_uri\":\"https://localhost:8080/\"}, id:\"ainKoztDxl3V\", executionInfo:{\"status\":\"ok\".1, timestamp:1649330811573, user_tz:-330.1, elapsed:34789, user:{\"displayName\":\"Mounika\".1, userId:\"17644319402087990687\"}}, outputId:\"67395e6c-6519-4fce-9309-bdabc99eecef\"}, execution_count:2, outputs:[{\"output_type\":\"stream\", name:\"stdout\", text:[\"Mounted at /content/drive\\n\"]}]}, {\"cell_type\":\"code\".2, source:[\"df_ = pd.read_csv(\\\"/content/drive/MyDrive/Hotel Bookings (data analysis capstone project)/Copy of Hotel Booking Analysis - Capstone Project.ipynb\\\")\"], metadata:{\"id\":\"S_Zr3nuVxwUw\"}, execution_count:null, outputs:[]}.1, {\"cell_type\":\"code\".3, source:[\"\"], metadata:{\"id\":\"vZJHCXKN0HBO\"}, execution_count:null.1, outputs:[]}]}]\n",
              "Index: []\n",
              "\n",
              "[0 rows x 63 columns]>"
            ]
          },
          "metadata": {},
          "execution_count": 5
        }
      ]
    }
  ]
}